{
 "cells": [
  {
   "cell_type": "code",
   "execution_count": 32,
   "metadata": {},
   "outputs": [],
   "source": [
    "import numpy as np\n",
    "import urllib\n",
    "import sklearn\n",
    "import pandas as pd\n",
    "\n",
    "def load_data():\n",
    "    #this section of the code is to try to seprately load the datasets and get their features\n",
    "    with urllib.request.urlopen(\"http://www.cs.toronto.edu/~rgrosse/courses/csc2515_2019/homeworks/hw1/clean_real.txt\") as url1:\n",
    "        real_raw = url1.readlines()\n",
    "   \n",
    "    from sklearn.feature_extraction.text import CountVectorizer\n",
    "    \n",
    "    vectorizer1 = CountVectorizer()\n",
    "    real_data = vectorizer1.fit_transform(real_raw)\n",
    "    real_data=real_data.toarray()\n",
    "\n",
    "    with urllib.request.urlopen(\"http://www.cs.toronto.edu/~rgrosse/courses/csc2515_2019/homeworks/hw1/clean_fake.txt\") as url2:\n",
    "        fake_raw = url2.readlines()\n",
    "\n",
    "    vectorizer2 = CountVectorizer()\n",
    "    fake_data = vectorizer2.fit_transform(fake_raw)\n",
    "    fake_data=fake_data.toarray()\n",
    "\n",
    "    #print(real_data.shape)\n",
    "    #print(fake_data.shape)\n",
    "\n",
    "\n",
    "    #create a target\n",
    "    real=1\n",
    "    fake=0\n",
    "    target_real=[real]* real_data.shape[0]\n",
    "    target_fake=[fake]* fake_data.shape[0]\n",
    "    target=target_real+target_fake\n",
    "    #print(target)\n",
    "    \n",
    "    #this section of the code is to create one combined list of data\n",
    "    combined_raw=real_raw+fake_raw\n",
    "    vectorizer3 = CountVectorizer()\n",
    "    combined_data = vectorizer3.fit_transform(combined_raw)\n",
    "    combined_data= combined_data.toarray()\n",
    "\n",
    "    #print(combined_data.shape)\n",
    "    \n",
    "    \n",
    "    from sklearn.model_selection import train_test_split\n",
    "    X_train, X_test, y_train, y_test = train_test_split(combined_data, target, test_size=0.3, random_state=1)\n",
    "    \n",
    "    X_val,X_test,y_val,y_test = train_test_split(X_test, y_test, test_size=0.5, random_state=1)\n",
    "    \n",
    "    return X_train, X_val, X_test, y_train, y_val, y_test\n",
    "\n",
    "#calling the function load_data\n",
    "X_train, X_val, X_test, y_train, y_val, y_test = load_data()"
   ]
  },
  {
   "cell_type": "code",
   "execution_count": 36,
   "metadata": {},
   "outputs": [
    {
     "name": "stdout",
     "output_type": "stream",
     "text": [
      "[0.773469387755102, 0.7612244897959184, 0.7938775510204081, 0.7591836734693878, 0.7673469387755102, 0.7571428571428571, 0.773469387755102, 0.7714285714285715, 0.763265306122449, 0.753061224489796]\n"
     ]
    }
   ],
   "source": [
    "def select_model(X_train, X_val, X_test, y_train, y_val, y_test):\n",
    "    from sklearn.tree import DecisionTreeClassifier\n",
    "    from sklearn.model_selection import cross_val_score\n",
    "    from sklearn.metrics import accuracy_score\n",
    "    from sklearn import tree\n",
    "    \n",
    "    clf_tree= DecisionTreeClassifier()\n",
    "    max_depth=[3,5,10,30,50]\n",
    "    criterion=['gini','entropy']\n",
    "    scores=[]\n",
    "    for depths in max_depth:\n",
    "        for values in criterion:           \n",
    "            clf_tree.fit(X_train,y_train)\n",
    "            y_pred=clf_tree.predict(X_val)\n",
    "            scores.append(accuracy_score(y_val,y_pred))\n",
    "    print(scores)\n",
    "    \n",
    "    return \n",
    "select_model(X_train, X_val, X_test, y_train, y_val, y_test)\n"
   ]
  },
  {
   "cell_type": "code",
   "execution_count": null,
   "metadata": {},
   "outputs": [],
   "source": []
  }
 ],
 "metadata": {
  "kernelspec": {
   "display_name": "Python 3",
   "language": "python",
   "name": "python3"
  },
  "language_info": {
   "codemirror_mode": {
    "name": "ipython",
    "version": 3
   },
   "file_extension": ".py",
   "mimetype": "text/x-python",
   "name": "python",
   "nbconvert_exporter": "python",
   "pygments_lexer": "ipython3",
   "version": "3.7.3"
  }
 },
 "nbformat": 4,
 "nbformat_minor": 2
}
